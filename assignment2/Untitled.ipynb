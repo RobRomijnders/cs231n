{
 "cells": [
  {
   "cell_type": "code",
   "execution_count": 1,
   "metadata": {
    "collapsed": true
   },
   "outputs": [],
   "source": [
    "import numpy as np"
   ]
  },
  {
   "cell_type": "code",
   "execution_count": 2,
   "metadata": {
    "collapsed": false
   },
   "outputs": [
    {
     "name": "stdout",
     "output_type": "stream",
     "text": [
      "Before spatial batch normalization:\n",
      "  Shape:  (2L, 3L, 4L, 5L)\n",
      "  Means:  [  9.59715442  10.03317367   9.89386844]\n",
      "  Stds:  [ 4.5333975   4.2305004   3.38258744]\n"
     ]
    }
   ],
   "source": [
    "# Check the training-time forward pass by checking means and variances\n",
    "# of features both before and after spatial batch normalization\n",
    "\n",
    "N, C, H, W = 2, 3, 4, 5\n",
    "x = 4 * np.random.randn(N, C, H, W) + 10\n",
    "\n",
    "print 'Before spatial batch normalization:'\n",
    "print '  Shape: ', x.shape\n",
    "print '  Means: ', x.mean(axis=(0, 2, 3))\n",
    "print '  Stds: ', x.std(axis=(0, 2, 3))"
   ]
  },
  {
   "cell_type": "code",
   "execution_count": 2,
   "metadata": {
    "collapsed": false
   },
   "outputs": [
    {
     "data": {
      "text/plain": [
       "array([2, 3, 2, 0, 3, 2, 1, 1, 1, 1, 2, 0, 1, 2, 0, 2, 2, 3, 3, 3, 0, 3, 0,\n",
       "       2, 3, 3, 2, 0, 1, 2, 3, 3, 0, 3, 2, 2, 2, 3, 1, 1, 3, 1, 3, 3, 3, 0,\n",
       "       3, 3, 1, 2, 2, 2, 3, 1, 1, 3, 3, 0, 2, 3, 3, 2, 1, 2, 0, 1, 0, 2, 0,\n",
       "       0, 3, 2, 0, 3, 0, 1, 3, 1, 1, 2, 0, 3, 1, 3, 2, 0, 3, 0, 3, 2, 3, 0,\n",
       "       0, 1, 2, 3, 1, 1, 2, 0, 1, 1, 0, 2, 1, 3, 2, 0, 3, 0, 2, 2, 0, 3, 2,\n",
       "       1, 0, 0, 3, 2])"
      ]
     },
     "execution_count": 2,
     "metadata": {},
     "output_type": "execute_result"
    }
   ],
   "source": [
    "test = np.random.randint(0,4,(5,6,4))\n",
    "test.reshape(-1)"
   ]
  },
  {
   "cell_type": "code",
   "execution_count": 3,
   "metadata": {
    "collapsed": false
   },
   "outputs": [
    {
     "name": "stdout",
     "output_type": "stream",
     "text": [
      "[[ 0.94982896  0.62966054  0.44539835]\n",
      " [ 0.23311198  0.8779362   0.90644193]\n",
      " [ 0.53099721  0.42083817  0.70804781]]\n",
      "0.949828963817\n",
      "(0, 0)\n"
     ]
    }
   ],
   "source": [
    "a = np.random.random((3,3))\n",
    "print a\n",
    "print np.max(a)\n",
    "print np.unravel_index(np.argmax(a),a.shape)"
   ]
  },
  {
   "cell_type": "code",
   "execution_count": 4,
   "metadata": {
    "collapsed": false
   },
   "outputs": [
    {
     "data": {
      "text/plain": [
       "array([ 0.44932497,  0.52428533,  0.04561412,  0.81186139,  0.01710238,\n",
       "        0.17729956])"
      ]
     },
     "execution_count": 4,
     "metadata": {},
     "output_type": "execute_result"
    }
   ],
   "source": [
    "np.random.random(6)"
   ]
  },
  {
   "cell_type": "code",
   "execution_count": 15,
   "metadata": {
    "collapsed": false
   },
   "outputs": [
    {
     "ename": "ValueError",
     "evalue": "could not broadcast input array from shape (10,8) into shape (6,4)",
     "output_type": "error",
     "traceback": [
      "\u001b[1;31m---------------------------------------------------------------------------\u001b[0m",
      "\u001b[1;31mValueError\u001b[0m                                Traceback (most recent call last)",
      "\u001b[1;32m<ipython-input-15-83989eb949e3>\u001b[0m in \u001b[0;36m<module>\u001b[1;34m()\u001b[0m\n\u001b[0;32m      1\u001b[0m \u001b[1;32mfor\u001b[0m \u001b[0mi\u001b[0m \u001b[1;32min\u001b[0m \u001b[0mrange\u001b[0m\u001b[1;33m(\u001b[0m\u001b[0mtest\u001b[0m\u001b[1;33m.\u001b[0m\u001b[0mshape\u001b[0m\u001b[1;33m[\u001b[0m\u001b[1;36m0\u001b[0m\u001b[1;33m]\u001b[0m\u001b[1;33m)\u001b[0m\u001b[1;33m:\u001b[0m\u001b[1;33m\u001b[0m\u001b[0m\n\u001b[1;32m----> 2\u001b[1;33m     \u001b[0mtest\u001b[0m\u001b[1;33m[\u001b[0m\u001b[0mi\u001b[0m\u001b[1;33m]\u001b[0m \u001b[1;33m=\u001b[0m \u001b[0mnp\u001b[0m\u001b[1;33m.\u001b[0m\u001b[0mpad\u001b[0m\u001b[1;33m(\u001b[0m\u001b[0mtest\u001b[0m\u001b[1;33m[\u001b[0m\u001b[0mi\u001b[0m\u001b[1;33m]\u001b[0m\u001b[1;33m,\u001b[0m\u001b[1;33m(\u001b[0m\u001b[1;36m2\u001b[0m\u001b[1;33m,\u001b[0m\u001b[1;33m)\u001b[0m\u001b[1;33m,\u001b[0m\u001b[0mmode\u001b[0m\u001b[1;33m=\u001b[0m\u001b[1;34m'constant'\u001b[0m\u001b[1;33m)\u001b[0m\u001b[1;33m\u001b[0m\u001b[0m\n\u001b[0m",
      "\u001b[1;31mValueError\u001b[0m: could not broadcast input array from shape (10,8) into shape (6,4)"
     ]
    }
   ],
   "source": [
    "for i in range(test.shape[0]):\n",
    "    test[i] = np.pad(test[i],(2,),mode='constant') "
   ]
  },
  {
   "cell_type": "code",
   "execution_count": 19,
   "metadata": {
    "collapsed": false
   },
   "outputs": [
    {
     "data": {
      "text/plain": [
       "array([[[0, 3, 0, 3],\n",
       "        [0, 2, 2, 1],\n",
       "        [2, 3, 2, 3],\n",
       "        [3, 3, 0, 0],\n",
       "        [2, 3, 1, 0],\n",
       "        [2, 1, 1, 3]],\n",
       "\n",
       "       [[3, 1, 2, 1],\n",
       "        [2, 3, 2, 3],\n",
       "        [1, 2, 0, 1],\n",
       "        [2, 0, 0, 3],\n",
       "        [3, 0, 0, 0],\n",
       "        [3, 3, 1, 1]],\n",
       "\n",
       "       [[0, 3, 3, 1],\n",
       "        [2, 3, 1, 3],\n",
       "        [0, 0, 1, 1],\n",
       "        [3, 2, 2, 1],\n",
       "        [2, 3, 1, 0],\n",
       "        [1, 2, 3, 3]],\n",
       "\n",
       "       [[3, 3, 0, 1],\n",
       "        [1, 2, 2, 0],\n",
       "        [0, 2, 2, 3],\n",
       "        [2, 3, 2, 1],\n",
       "        [0, 3, 1, 3],\n",
       "        [2, 0, 0, 1]],\n",
       "\n",
       "       [[3, 0, 1, 1],\n",
       "        [0, 0, 2, 1],\n",
       "        [0, 0, 3, 3],\n",
       "        [3, 2, 1, 1],\n",
       "        [3, 3, 0, 2],\n",
       "        [1, 0, 2, 3]]])"
      ]
     },
     "execution_count": 19,
     "metadata": {},
     "output_type": "execute_result"
    }
   ],
   "source": [
    "test"
   ]
  },
  {
   "cell_type": "code",
   "execution_count": 24,
   "metadata": {
    "collapsed": false
   },
   "outputs": [
    {
     "name": "stdout",
     "output_type": "stream",
     "text": [
      "[0, 2, 4, 6, 8]\n"
     ]
    }
   ],
   "source": [
    "a = range(0,10,2)\n",
    "print a\n"
   ]
  },
  {
   "cell_type": "code",
   "execution_count": 25,
   "metadata": {
    "collapsed": false
   },
   "outputs": [
    {
     "data": {
      "text/plain": [
       "[2, 4]"
      ]
     },
     "execution_count": 25,
     "metadata": {},
     "output_type": "execute_result"
    }
   ],
   "source": [
    "a[1:3]"
   ]
  },
  {
   "cell_type": "code",
   "execution_count": null,
   "metadata": {
    "collapsed": true
   },
   "outputs": [],
   "source": []
  }
 ],
 "metadata": {
  "kernelspec": {
   "display_name": "Python 2",
   "language": "python",
   "name": "python2"
  },
  "language_info": {
   "codemirror_mode": {
    "name": "ipython",
    "version": 2
   },
   "file_extension": ".py",
   "mimetype": "text/x-python",
   "name": "python",
   "nbconvert_exporter": "python",
   "pygments_lexer": "ipython2",
   "version": "2.7.11"
  }
 },
 "nbformat": 4,
 "nbformat_minor": 0
}
